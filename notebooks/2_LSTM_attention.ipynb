{
 "cells": [
  {
   "cell_type": "markdown",
   "metadata": {
    "id": "TdBUQpMeNBSk"
   },
   "source": [
    "## Lab 1"
   ]
  },
  {
   "cell_type": "markdown",
   "metadata": {
    "id": "NswxUVsENBSy"
   },
   "source": [
    "### Part 2: Neural Machine Translation in the wild\n",
    "In the third homework you are supposed to get the best translation you can for the EN-RU translation task.\n",
    "\n",
    "Basic approach using RNNs as encoder and decoder is implemented for you. \n",
    "\n",
    "Your ultimate task is to use the techniques we've covered, e.g.\n",
    "\n",
    "* Optimization enhancements (e.g. learning rate decay)\n",
    "\n",
    "* CNN encoder (with or without positional encoding)\n",
    "\n",
    "* attention/self-attention mechanism\n",
    "\n",
    "* pretraining the language model\n",
    "\n",
    "* [Byte Pair Encoding](https://github.com/rsennrich/subword-nmt)\n",
    "\n",
    "* or just fine-tunning BERT ;)\n",
    "\n",
    "to improve the translation quality. \n",
    "\n",
    "__Please use at least three different approaches/models and compare them (translation quality/complexity/training and evaluation time).__\n",
    "\n",
    "Write down some summary on your experiments and illustrate it with convergence plots/metrics and your thoughts. Just like you would approach a real problem."
   ]
  },
  {
   "cell_type": "markdown",
   "metadata": {},
   "source": [
    "**<font color=blue>Observations:</font>**\n",
    "\n",
    "- Here we implemented Luong's Attention from [Effective Approaches to Attention-based Neural Machine Translation](https://arxiv.org/pdf/1508.04025.pdf).\n",
    "- The number of layers chosen is 1 for computational reasons.\n",
    "- The score used for computing the attention values $\\alpha_{ts}$ were computed using the _dot_ alternative: $\\mathrm{score}(h_t, \\overline{h}_s) = h_t^{\\top}\\overline{h}_s$ where $h_t$ is the current decoder hidden state and $\\overline{h}_s$ are all the encoder hidden states. Hence $\\alpha_{ts}$ is computed by softmaxing $\\mathrm{score}(h_t, \\overline{h}_s)$.\n",
    "- Implementation details can be found in the file `my_network_attention.py` (class `Decoder`)."
   ]
  },
  {
   "cell_type": "code",
   "execution_count": 1,
   "metadata": {
    "colab": {
     "base_uri": "https://localhost:8080/"
    },
    "executionInfo": {
     "elapsed": 3944,
     "status": "ok",
     "timestamp": 1617194259641,
     "user": {
      "displayName": "Joqsán Azócar",
      "photoUrl": "",
      "userId": "13484612929132006883"
     },
     "user_tz": -180
    },
    "id": "WjJWCGpINBS3",
    "outputId": "5f9be902-4810-43f1-aee8-3ce376e7a532"
   },
   "outputs": [
    {
     "name": "stdout",
     "output_type": "stream",
     "text": [
      "Collecting subword-nmt\n",
      "  Downloading https://files.pythonhosted.org/packages/74/60/6600a7bc09e7ab38bc53a48a20d8cae49b837f93f5842a41fe513a694912/subword_nmt-0.3.7-py2.py3-none-any.whl\n",
      "Installing collected packages: subword-nmt\n",
      "Successfully installed subword-nmt-0.3.7\n"
     ]
    }
   ],
   "source": [
    "# You might need to install the libraries below. Do it in the desired environment\n",
    "# if you are working locally.\n",
    "\n",
    "! pip  install subword-nmt\n",
    "# ! pip install nltk\n",
    "# ! pip install torchtext"
   ]
  },
  {
   "cell_type": "code",
   "execution_count": 2,
   "metadata": {
    "collapsed": true,
    "executionInfo": {
     "elapsed": 708,
     "status": "ok",
     "timestamp": 1617194261849,
     "user": {
      "displayName": "Joqsán Azócar",
      "photoUrl": "",
      "userId": "13484612929132006883"
     },
     "user_tz": -180
    },
    "id": "RnVb5I-tNBS5"
   },
   "outputs": [],
   "source": [
    "# Thanks to YSDA NLP course team for the data\n",
    "# (who thanks tilda and deephack teams for the data in their turn)\n",
    "\n",
    "import os\n",
    "path_do_data = '../data/data.txt'\n",
    "# if not os.path.exists(path_do_data):\n",
    "#     print(\"Dataset not found locally. Downloading from github. Loading special files as well\")\n",
    "#     !wget https://yadi.sk/d/LWdzzg7vIUdqhw -nc\n",
    "#     path_do_data = './data.txt'"
   ]
  },
  {
   "cell_type": "code",
   "execution_count": 4,
   "metadata": {
    "collapsed": true,
    "executionInfo": {
     "elapsed": 1484,
     "status": "ok",
     "timestamp": 1617194264716,
     "user": {
      "displayName": "Joqsán Azócar",
      "photoUrl": "",
      "userId": "13484612929132006883"
     },
     "user_tz": -180
    },
    "id": "CN7wwUnNNBS7"
   },
   "outputs": [],
   "source": [
    "# if not os.path.exists('./utils.py'):\n",
    "#     print(\"utils file not found locally. Downloading from github.\")\n",
    "#     !wget https://disk.yandex.ru/d/dTy422j3K07LyQ -nc\n",
    "\n",
    "# if not os.path.exists('./my_network.py'):\n",
    "#     print(\"network file not found locally. Downloading from github.\")\n",
    "#     !wget https://disk.yandex.ru/d/pkkNUfn4Af_n3w -nc"
   ]
  },
  {
   "cell_type": "code",
   "execution_count": 5,
   "metadata": {
    "collapsed": true,
    "executionInfo": {
     "elapsed": 8630,
     "status": "ok",
     "timestamp": 1617194272953,
     "user": {
      "displayName": "Joqsán Azócar",
      "photoUrl": "",
      "userId": "13484612929132006883"
     },
     "user_tz": -180
    },
    "id": "MKKPUQ2dNBS8"
   },
   "outputs": [],
   "source": [
    "import torch\n",
    "import torch.nn as nn\n",
    "import torch.optim as optim\n",
    "\n",
    "import torchtext\n",
    "from torchtext.experimental.datasets import TranslationDataset, Multi30k\n",
    "from torchtext.legacy.data import Field, BucketIterator\n",
    "\n",
    "import spacy\n",
    "\n",
    "import random\n",
    "import math\n",
    "import time\n",
    "\n",
    "import matplotlib\n",
    "matplotlib.rcParams.update({'figure.figsize': (16, 12), 'font.size': 14})\n",
    "import matplotlib.pyplot as plt\n",
    "%matplotlib inline\n",
    "from IPython.display import clear_output\n",
    "\n",
    "from nltk.tokenize import WordPunctTokenizer\n",
    "from subword_nmt.learn_bpe import learn_bpe\n",
    "from subword_nmt.apply_bpe import BPE\n"
   ]
  },
  {
   "cell_type": "markdown",
   "metadata": {
    "id": "_ySXLK9_NBS8"
   },
   "source": [
    "### Main part\n",
    "__Here comes the preprocessing. Do not hesitate to use BPE or more complex preprocessing ;)__"
   ]
  },
  {
   "cell_type": "code",
   "execution_count": 6,
   "metadata": {
    "collapsed": true,
    "executionInfo": {
     "elapsed": 782,
     "status": "ok",
     "timestamp": 1617194274788,
     "user": {
      "displayName": "Joqsán Azócar",
      "photoUrl": "",
      "userId": "13484612929132006883"
     },
     "user_tz": -180
    },
    "id": "H5oDy9lQNBS9"
   },
   "outputs": [],
   "source": [
    "tokenizer_W = WordPunctTokenizer()\n",
    "def tokenize(x, tokenizer=tokenizer_W):\n",
    "    return tokenizer.tokenize(x.lower())"
   ]
  },
  {
   "cell_type": "code",
   "execution_count": 7,
   "metadata": {
    "collapsed": true,
    "executionInfo": {
     "elapsed": 3179,
     "status": "ok",
     "timestamp": 1617194278338,
     "user": {
      "displayName": "Joqsán Azócar",
      "photoUrl": "",
      "userId": "13484612929132006883"
     },
     "user_tz": -180
    },
    "id": "N0pCESd7NBS-"
   },
   "outputs": [],
   "source": [
    "SRC = Field(tokenize=tokenize,\n",
    "            init_token = '<sos>', \n",
    "            eos_token = '<eos>', \n",
    "            lower = True)\n",
    "\n",
    "TRG = Field(tokenize=tokenize,\n",
    "            init_token = '<sos>', \n",
    "            eos_token = '<eos>', \n",
    "            lower = True)\n",
    "\n",
    "dataset = torchtext.legacy.data.TabularDataset(\n",
    "    path=path_do_data,\n",
    "    format='tsv',\n",
    "    fields=[('trg', TRG), ('src', SRC)]\n",
    ")"
   ]
  },
  {
   "cell_type": "code",
   "execution_count": 8,
   "metadata": {
    "collapsed": true,
    "executionInfo": {
     "elapsed": 1021,
     "status": "ok",
     "timestamp": 1617194279153,
     "user": {
      "displayName": "Joqsán Azócar",
      "photoUrl": "",
      "userId": "13484612929132006883"
     },
     "user_tz": -180
    },
    "id": "6RSisOKGNBS-"
   },
   "outputs": [],
   "source": [
    "train_data, valid_data, test_data = dataset.split(split_ratio=[0.8, 0.15, 0.05])"
   ]
  },
  {
   "cell_type": "code",
   "execution_count": 9,
   "metadata": {
    "colab": {
     "base_uri": "https://localhost:8080/"
    },
    "executionInfo": {
     "elapsed": 1142,
     "status": "ok",
     "timestamp": 1617194280965,
     "user": {
      "displayName": "Joqsán Azócar",
      "photoUrl": "",
      "userId": "13484612929132006883"
     },
     "user_tz": -180
    },
    "id": "QFMR2ZQeNBS_",
    "outputId": "00858a4e-b092-485f-9bff-fc3c6511d543"
   },
   "outputs": [
    {
     "name": "stdout",
     "output_type": "stream",
     "text": [
      "Number of training examples: 40000\n",
      "Number of validation examples: 2500\n",
      "Number of testing examples: 7500\n"
     ]
    }
   ],
   "source": [
    "print(f\"Number of training examples: {len(train_data.examples)}\")\n",
    "print(f\"Number of validation examples: {len(valid_data.examples)}\")\n",
    "print(f\"Number of testing examples: {len(test_data.examples)}\")"
   ]
  },
  {
   "cell_type": "code",
   "execution_count": 10,
   "metadata": {
    "collapsed": true,
    "executionInfo": {
     "elapsed": 1344,
     "status": "ok",
     "timestamp": 1617194283562,
     "user": {
      "displayName": "Joqsán Azócar",
      "photoUrl": "",
      "userId": "13484612929132006883"
     },
     "user_tz": -180
    },
    "id": "PQvfEdo5NBTC"
   },
   "outputs": [],
   "source": [
    "SRC.build_vocab(train_data, min_freq = 3)\n",
    "TRG.build_vocab(train_data, min_freq = 3)"
   ]
  },
  {
   "cell_type": "code",
   "execution_count": 11,
   "metadata": {
    "colab": {
     "base_uri": "https://localhost:8080/"
    },
    "executionInfo": {
     "elapsed": 669,
     "status": "ok",
     "timestamp": 1617194283564,
     "user": {
      "displayName": "Joqsán Azócar",
      "photoUrl": "",
      "userId": "13484612929132006883"
     },
     "user_tz": -180
    },
    "id": "lYcXDUkBNBTC",
    "outputId": "131c9507-0983-4998-b32f-be7cb951451e"
   },
   "outputs": [
    {
     "name": "stdout",
     "output_type": "stream",
     "text": [
      "Unique tokens in source (ru) vocabulary: 9321\n",
      "Unique tokens in target (en) vocabulary: 6744\n"
     ]
    }
   ],
   "source": [
    "print(f\"Unique tokens in source (ru) vocabulary: {len(SRC.vocab)}\")\n",
    "print(f\"Unique tokens in target (en) vocabulary: {len(TRG.vocab)}\")"
   ]
  },
  {
   "cell_type": "markdown",
   "metadata": {
    "id": "rwXvtSFlNBTD"
   },
   "source": [
    "Here are tokens from original (RU) corpus:"
   ]
  },
  {
   "cell_type": "code",
   "execution_count": 12,
   "metadata": {
    "colab": {
     "base_uri": "https://localhost:8080/"
    },
    "executionInfo": {
     "elapsed": 527,
     "status": "ok",
     "timestamp": 1617194286784,
     "user": {
      "displayName": "Joqsán Azócar",
      "photoUrl": "",
      "userId": "13484612929132006883"
     },
     "user_tz": -180
    },
    "id": "MEFIxFjUNBTE",
    "outputId": "8fba749f-4fe6-403a-aceb-86a4dd7d7f2b"
   },
   "outputs": [
    {
     "data": {
      "text/plain": [
       "['<unk>',\n",
       " 'такими',\n",
       " 'vista',\n",
       " 'майор',\n",
       " 'шотландский',\n",
       " 'фахда',\n",
       " 'lakes',\n",
       " 'тира',\n",
       " 'грин',\n",
       " 'сосредоточено']"
      ]
     },
     "execution_count": 12,
     "metadata": {
      "tags": []
     },
     "output_type": "execute_result"
    }
   ],
   "source": [
    "SRC.vocab.itos[::1000]"
   ]
  },
  {
   "cell_type": "markdown",
   "metadata": {
    "id": "oJa7FQw-NBTF"
   },
   "source": [
    "And from target (EN) corpus:"
   ]
  },
  {
   "cell_type": "code",
   "execution_count": 13,
   "metadata": {
    "colab": {
     "base_uri": "https://localhost:8080/"
    },
    "executionInfo": {
     "elapsed": 640,
     "status": "ok",
     "timestamp": 1617194288706,
     "user": {
      "displayName": "Joqsán Azócar",
      "photoUrl": "",
      "userId": "13484612929132006883"
     },
     "user_tz": -180
    },
    "id": "2Bv8ojWWNBTF",
    "outputId": "2747e49f-8ca2-4f60-a16c-7e165d9b70fb"
   },
   "outputs": [
    {
     "data": {
      "text/plain": [
       "['<unk>', 'ceiling', 'external', 'cascais', 'lanes', 'sarlat', 'lily']"
      ]
     },
     "execution_count": 13,
     "metadata": {
      "tags": []
     },
     "output_type": "execute_result"
    }
   ],
   "source": [
    "TRG.vocab.itos[::1000]"
   ]
  },
  {
   "cell_type": "markdown",
   "metadata": {
    "id": "cgHSCZENNBTG"
   },
   "source": [
    "And here is example from train dataset:"
   ]
  },
  {
   "cell_type": "code",
   "execution_count": 14,
   "metadata": {
    "colab": {
     "base_uri": "https://localhost:8080/"
    },
    "executionInfo": {
     "elapsed": 950,
     "status": "ok",
     "timestamp": 1617194289859,
     "user": {
      "displayName": "Joqsán Azócar",
      "photoUrl": "",
      "userId": "13484612929132006883"
     },
     "user_tz": -180
    },
    "id": "BTcWIUC8URxW",
    "outputId": "e10d3594-457f-4171-aab9-f8d9329bcb7c"
   },
   "outputs": [
    {
     "data": {
      "text/plain": [
       "['парк',\n",
       " 'фил',\n",
       " '-',\n",
       " 'хардбердж',\n",
       " 'находится',\n",
       " 'менее',\n",
       " 'чем',\n",
       " 'в',\n",
       " '4',\n",
       " ',',\n",
       " '7',\n",
       " 'км',\n",
       " 'от',\n",
       " 'отеля',\n",
       " '.']"
      ]
     },
     "execution_count": 14,
     "metadata": {
      "tags": []
     },
     "output_type": "execute_result"
    }
   ],
   "source": [
    "vars(train_data.examples[1])['src']"
   ]
  },
  {
   "cell_type": "code",
   "execution_count": 15,
   "metadata": {
    "colab": {
     "base_uri": "https://localhost:8080/"
    },
    "executionInfo": {
     "elapsed": 811,
     "status": "ok",
     "timestamp": 1617194291638,
     "user": {
      "displayName": "Joqsán Azócar",
      "photoUrl": "",
      "userId": "13484612929132006883"
     },
     "user_tz": -180
    },
    "id": "AA_I7TLBUi7d",
    "outputId": "3fbd0662-2de6-4288-81e0-74aa64f4779d"
   },
   "outputs": [
    {
     "data": {
      "text/plain": [
       "['phil',\n",
       " 'hardberge',\n",
       " 'park',\n",
       " 'is',\n",
       " 'within',\n",
       " '4',\n",
       " '.',\n",
       " '7',\n",
       " 'km',\n",
       " 'of',\n",
       " 'the',\n",
       " 'hotel',\n",
       " '.']"
      ]
     },
     "execution_count": 15,
     "metadata": {
      "tags": []
     },
     "output_type": "execute_result"
    }
   ],
   "source": [
    "vars(train_data.examples[1])['trg']"
   ]
  },
  {
   "cell_type": "code",
   "execution_count": 16,
   "metadata": {
    "colab": {
     "base_uri": "https://localhost:8080/"
    },
    "executionInfo": {
     "elapsed": 875,
     "status": "ok",
     "timestamp": 1617194292067,
     "user": {
      "displayName": "Joqsán Azócar",
      "photoUrl": "",
      "userId": "13484612929132006883"
     },
     "user_tz": -180
    },
    "id": "Ml4MwU7ENBTH",
    "outputId": "3c2f7672-def5-4a04-ff02-e7aa7fc07edd"
   },
   "outputs": [
    {
     "name": "stdout",
     "output_type": "stream",
     "text": [
      "{'trg': ['you', 'can', 'also', 'eat', 'outside', 'on', 'the', 'terrace', 'or', 'relax', 'in', 'front', 'of', 'the', 'open', 'fireplace', 'in', 'the', 'cosy', 'lounge', 'area', '.'], 'src': ['гости', 'могут', 'поесть', 'на', 'террасе', 'на', 'открытом', 'воздухе', 'или', 'отдохнуть', 'у', 'открытого', 'камина', 'в', 'уютном', 'лаундже', '.']}\n"
     ]
    }
   ],
   "source": [
    "print(vars(train_data.examples[9]))"
   ]
  },
  {
   "cell_type": "markdown",
   "metadata": {
    "id": "b3fbC6KmNBTH"
   },
   "source": [
    "Let's check the length distributions:"
   ]
  },
  {
   "cell_type": "code",
   "execution_count": 17,
   "metadata": {
    "colab": {
     "base_uri": "https://localhost:8080/",
     "height": 298
    },
    "executionInfo": {
     "elapsed": 890,
     "status": "ok",
     "timestamp": 1617194294546,
     "user": {
      "displayName": "Joqsán Azócar",
      "photoUrl": "",
      "userId": "13484612929132006883"
     },
     "user_tz": -180
    },
    "id": "6t-Dp9dfNBTI",
    "outputId": "707fc0b0-181d-4662-f4c9-61ad187faa88"
   },
   "outputs": [
    {
     "name": "stdout",
     "output_type": "stream",
     "text": [
      "Length distribution in Train data\n"
     ]
    },
    {
     "data": {
      "image/png": "[encoded data removed]",
      "text/plain": [
       "<Figure size 576x288 with 2 Axes>"
      ]
     },
     "metadata": {
      "needs_background": "light",
      "tags": []
     },
     "output_type": "display_data"
    }
   ],
   "source": [
    "src_length = map(len, [vars(x)['src'] for x in train_data.examples])\n",
    "trg_length = map(len, [vars(x)['trg'] for x in train_data.examples])\n",
    "\n",
    "print('Length distribution in Train data')\n",
    "plt.figure(figsize=[8, 4])\n",
    "plt.subplot(1, 2, 1)\n",
    "plt.title(\"source length\")\n",
    "plt.hist(list(src_length), bins=20);\n",
    "\n",
    "plt.subplot(1, 2, 2)\n",
    "plt.title(\"translation length\")\n",
    "plt.hist(list(trg_length), bins=20);"
   ]
  },
  {
   "cell_type": "code",
   "execution_count": 18,
   "metadata": {
    "colab": {
     "base_uri": "https://localhost:8080/",
     "height": 298
    },
    "executionInfo": {
     "elapsed": 1135,
     "status": "ok",
     "timestamp": 1617194297872,
     "user": {
      "displayName": "Joqsán Azócar",
      "photoUrl": "",
      "userId": "13484612929132006883"
     },
     "user_tz": -180
    },
    "id": "DUx0Va1WNBTJ",
    "outputId": "deec7b15-ce71-404b-eb8f-f964812bfd90"
   },
   "outputs": [
    {
     "name": "stdout",
     "output_type": "stream",
     "text": [
      "Length distribution in Test data\n"
     ]
    },
    {
     "data": {
      "image/png": "[encoded data removed]",
      "text/plain": [
       "<Figure size 576x288 with 2 Axes>"
      ]
     },
     "metadata": {
      "needs_background": "light",
      "tags": []
     },
     "output_type": "display_data"
    }
   ],
   "source": [
    "src_length = map(len, [vars(x)['src'] for x in test_data.examples])\n",
    "trg_length = map(len, [vars(x)['trg'] for x in test_data.examples])\n",
    "\n",
    "print('Length distribution in Test data')\n",
    "plt.figure(figsize=[8, 4])\n",
    "plt.subplot(1, 2, 1)\n",
    "plt.title(\"source length\")\n",
    "plt.hist(list(src_length), bins=20);\n",
    "\n",
    "plt.subplot(1, 2, 2)\n",
    "plt.title(\"translation length\")\n",
    "plt.hist(list(trg_length), bins=20);"
   ]
  },
  {
   "cell_type": "markdown",
   "metadata": {
    "id": "qLfSprHgNBTL"
   },
   "source": [
    "### Model side\n",
    "__Here comes simple pipeline of NMT model learning. It almost copies the week03 practice__"
   ]
  },
  {
   "cell_type": "code",
   "execution_count": 19,
   "metadata": {
    "collapsed": true,
    "executionInfo": {
     "elapsed": 1027,
     "status": "ok",
     "timestamp": 1617194301312,
     "user": {
      "displayName": "Joqsán Azócar",
      "photoUrl": "",
      "userId": "13484612929132006883"
     },
     "user_tz": -180
    },
    "id": "Z1VFwi07NBTL"
   },
   "outputs": [],
   "source": [
    "device = torch.device('cuda' if torch.cuda.is_available() else 'cpu')"
   ]
  },
  {
   "cell_type": "code",
   "execution_count": 20,
   "metadata": {
    "colab": {
     "base_uri": "https://localhost:8080/"
    },
    "executionInfo": {
     "elapsed": 534,
     "status": "ok",
     "timestamp": 1617194301313,
     "user": {
      "displayName": "Joqsán Azócar",
      "photoUrl": "",
      "userId": "13484612929132006883"
     },
     "user_tz": -180
    },
    "id": "eaULFGvJNBTM",
    "outputId": "7279e58b-124a-4fd7-c9ef-70c02cac07ae"
   },
   "outputs": [
    {
     "data": {
      "text/plain": [
       "device(type='cuda')"
      ]
     },
     "execution_count": 20,
     "metadata": {
      "tags": []
     },
     "output_type": "execute_result"
    }
   ],
   "source": [
    "device"
   ]
  },
  {
   "cell_type": "code",
   "execution_count": 21,
   "metadata": {
    "collapsed": true,
    "executionInfo": {
     "elapsed": 937,
     "status": "ok",
     "timestamp": 1617194304308,
     "user": {
      "displayName": "Joqsán Azócar",
      "photoUrl": "",
      "userId": "13484612929132006883"
     },
     "user_tz": -180
    },
    "id": "JMlCesnDNBTM"
   },
   "outputs": [],
   "source": [
    "def _len_sort_key(x):\n",
    "    return len(x.src)\n",
    "\n",
    "BATCH_SIZE = 128\n",
    "\n",
    "train_iterator, valid_iterator, test_iterator = BucketIterator.splits(\n",
    "    (train_data, valid_data, test_data), \n",
    "    batch_size = BATCH_SIZE, \n",
    "    device = device,\n",
    "    sort_key=_len_sort_key\n",
    ")"
   ]
  },
  {
   "cell_type": "code",
   "execution_count": 22,
   "metadata": {
    "colab": {
     "base_uri": "https://localhost:8080/"
    },
    "executionInfo": {
     "elapsed": 11732,
     "status": "ok",
     "timestamp": 1617194316571,
     "user": {
      "displayName": "Joqsán Azócar",
      "photoUrl": "",
      "userId": "13484612929132006883"
     },
     "user_tz": -180
    },
    "id": "EZSztWV3NBTN",
    "outputId": "704e8dd1-3e6b-4504-b7c7-fe26e126ac09"
   },
   "outputs": [
    {
     "name": "stdout",
     "output_type": "stream",
     "text": [
      "\n",
      "[torchtext.legacy.data.batch.Batch of size 128]\n",
      "\t[.trg]:[torch.cuda.LongTensor of size 41x128 (GPU 0)]\n",
      "\t[.src]:[torch.cuda.LongTensor of size 46x128 (GPU 0)]\n",
      "torch.Size([46, 128]) torch.Size([41, 128])\n"
     ]
    }
   ],
   "source": [
    "for x in train_iterator:\n",
    "    break\n",
    "print(x)\n",
    "print(x.src.shape, x.trg.shape)"
   ]
  },
  {
   "cell_type": "code",
   "execution_count": 48,
   "metadata": {
    "collapsed": true,
    "executionInfo": {
     "elapsed": 1361,
     "status": "ok",
     "timestamp": 1617194615913,
     "user": {
      "displayName": "Joqsán Azócar",
      "photoUrl": "",
      "userId": "13484612929132006883"
     },
     "user_tz": -180
    },
    "id": "UXAO-yzMcUg6"
   },
   "outputs": [],
   "source": [
    "%load_ext autoreload\n",
    "%autoreload 2"
   ]
  },
  {
   "cell_type": "code",
   "execution_count": 60,
   "metadata": {
    "collapsed": true,
    "executionInfo": {
     "elapsed": 997,
     "status": "ok",
     "timestamp": 1617194731291,
     "user": {
      "displayName": "Joqsán Azócar",
      "photoUrl": "",
      "userId": "13484612929132006883"
     },
     "user_tz": -180
    },
    "id": "BLTv0KnGNBTO"
   },
   "outputs": [],
   "source": [
    "from models import network_luong_attn\n",
    "Encoder = network_luong_attn.Encoder\n",
    "Decoder = network_luong_attn.Decoder\n",
    "Seq2Seq = network_luong_attn.Seq2Seq"
   ]
  },
  {
   "cell_type": "code",
   "execution_count": 61,
   "metadata": {
    "colab": {
     "base_uri": "https://localhost:8080/"
    },
    "executionInfo": {
     "elapsed": 1250,
     "status": "ok",
     "timestamp": 1617194733132,
     "user": {
      "displayName": "Joqsán Azócar",
      "photoUrl": "",
      "userId": "13484612929132006883"
     },
     "user_tz": -180
    },
    "id": "oCPZSs-FNBTO",
    "outputId": "2cbad90b-50ab-4bac-cb67-b65084215817"
   },
   "outputs": [
    {
     "name": "stderr",
     "output_type": "stream",
     "text": [
      "/usr/local/lib/python3.7/dist-packages/torch/nn/modules/rnn.py:63: UserWarning: dropout option adds dropout after all but last recurrent layer, so non-zero dropout expects num_layers greater than 1, but got dropout=0.5 and num_layers=1\n",
      "  \"num_layers={}\".format(dropout, num_layers))\n"
     ]
    }
   ],
   "source": [
    "INPUT_DIM = len(SRC.vocab)\n",
    "OUTPUT_DIM = len(TRG.vocab)\n",
    "ENC_EMB_DIM = 256\n",
    "DEC_EMB_DIM = 256\n",
    "HID_DIM = 512\n",
    "N_LAYERS = 1\n",
    "ENC_DROPOUT = 0.5\n",
    "DEC_DROPOUT = 0.5\n",
    "\n",
    "enc = Encoder(INPUT_DIM, ENC_EMB_DIM, HID_DIM, N_LAYERS, ENC_DROPOUT)\n",
    "dec = Decoder(OUTPUT_DIM, DEC_EMB_DIM, HID_DIM, N_LAYERS, DEC_DROPOUT)\n",
    "\n",
    "# dont forget to put the model to the right device\n",
    "model = Seq2Seq(enc, dec, device).to(device)"
   ]
  },
  {
   "cell_type": "code",
   "execution_count": 62,
   "metadata": {
    "colab": {
     "base_uri": "https://localhost:8080/"
    },
    "executionInfo": {
     "elapsed": 509,
     "status": "ok",
     "timestamp": 1617194734611,
     "user": {
      "displayName": "Joqsán Azócar",
      "photoUrl": "",
      "userId": "13484612929132006883"
     },
     "user_tz": -180
    },
    "id": "5GNx9quCNBTP",
    "outputId": "9921006a-3171-4ada-9c09-0ffd7c053de3"
   },
   "outputs": [
    {
     "data": {
      "text/plain": [
       "Seq2Seq(\n",
       "  (encoder): Encoder(\n",
       "    (embedding): Embedding(9321, 256)\n",
       "    (rnn): LSTM(256, 512, dropout=0.5)\n",
       "    (dropout): Dropout(p=0.5, inplace=False)\n",
       "  )\n",
       "  (decoder): Decoder(\n",
       "    (embedding): Embedding(6744, 256)\n",
       "    (rnn): LSTM(256, 512, dropout=0.5)\n",
       "    (out): Linear(in_features=1024, out_features=6744, bias=True)\n",
       "    (dropout): Dropout(p=0.5, inplace=False)\n",
       "  )\n",
       ")"
      ]
     },
     "execution_count": 62,
     "metadata": {
      "tags": []
     },
     "output_type": "execute_result"
    }
   ],
   "source": [
    "def init_weights(m):\n",
    "    # <YOUR CODE HERE>\n",
    "    for name, param in m.named_parameters():\n",
    "        nn.init.uniform_(param, -0.08, 0.08)\n",
    "        \n",
    "model.apply(init_weights)"
   ]
  },
  {
   "cell_type": "code",
   "execution_count": 63,
   "metadata": {
    "colab": {
     "base_uri": "https://localhost:8080/"
    },
    "executionInfo": {
     "elapsed": 1711,
     "status": "ok",
     "timestamp": 1617194736819,
     "user": {
      "displayName": "Joqsán Azócar",
      "photoUrl": "",
      "userId": "13484612929132006883"
     },
     "user_tz": -180
    },
    "id": "K4weBglrNBTQ",
    "outputId": "0e388f0a-739f-4229-841c-0b1148f8a3d0"
   },
   "outputs": [
    {
     "name": "stdout",
     "output_type": "stream",
     "text": [
      "The model has 14,179,160 trainable parameters\n"
     ]
    }
   ],
   "source": [
    "def count_parameters(model):\n",
    "    return sum(p.numel() for p in model.parameters() if p.requires_grad)\n",
    "\n",
    "print(f'The model has {count_parameters(model):,} trainable parameters')"
   ]
  },
  {
   "cell_type": "code",
   "execution_count": 64,
   "metadata": {
    "collapsed": true,
    "executionInfo": {
     "elapsed": 663,
     "status": "ok",
     "timestamp": 1617194738067,
     "user": {
      "displayName": "Joqsán Azócar",
      "photoUrl": "",
      "userId": "13484612929132006883"
     },
     "user_tz": -180
    },
    "id": "TjP-HMFxNBTR"
   },
   "outputs": [],
   "source": [
    "PAD_IDX = TRG.vocab.stoi['<pad>']\n",
    "optimizer = optim.Adam(model.parameters())\n",
    "criterion = nn.CrossEntropyLoss(ignore_index = PAD_IDX)"
   ]
  },
  {
   "cell_type": "code",
   "execution_count": 65,
   "metadata": {
    "collapsed": true,
    "executionInfo": {
     "elapsed": 553,
     "status": "ok",
     "timestamp": 1617194739118,
     "user": {
      "displayName": "Joqsán Azócar",
      "photoUrl": "",
      "userId": "13484612929132006883"
     },
     "user_tz": -180
    },
    "id": "P5peH68JNBTR"
   },
   "outputs": [],
   "source": [
    "def train(model, iterator, optimizer, criterion, clip, train_history=None, valid_history=None):\n",
    "    model.train()\n",
    "    \n",
    "    epoch_loss = 0\n",
    "    history = []\n",
    "    for i, batch in enumerate(iterator):\n",
    "        \n",
    "        # src = [src sent len, batch size]\n",
    "        src = batch.src\n",
    "        trg = batch.trg\n",
    "        \n",
    "        optimizer.zero_grad()\n",
    "        \n",
    "        output = model(src, trg)\n",
    "        \n",
    "        #trg = [trg sent len, batch size]\n",
    "        #output = [trg sent len, batch size, output dim]\n",
    "        \n",
    "        output = output[1:].view(-1, output.shape[-1])\n",
    "        trg = trg[1:].view(-1)\n",
    "        \n",
    "        #trg = [(trg sent len - 1) * batch size]\n",
    "        #output = [(trg sent len - 1) * batch size, output dim]\n",
    "        \n",
    "        loss = criterion(output, trg)\n",
    "        \n",
    "        loss.backward()\n",
    "        \n",
    "        # Let's clip the gradient\n",
    "        torch.nn.utils.clip_grad_norm_(model.parameters(), clip)\n",
    "        \n",
    "        optimizer.step()\n",
    "        \n",
    "        epoch_loss += loss.item()\n",
    "        \n",
    "        history.append(loss.cpu().data.numpy())\n",
    "        if (i+1)%10==0:\n",
    "            fig, ax = plt.subplots(nrows=1, ncols=2, figsize=(12, 8))\n",
    "\n",
    "            clear_output(True)\n",
    "            ax[0].plot(history, label='train loss')\n",
    "            ax[0].set_xlabel('Batch')\n",
    "            ax[0].set_title('Train loss')\n",
    "            if train_history is not None:\n",
    "                ax[1].plot(train_history, label='general train history')\n",
    "                ax[1].set_xlabel('Epoch')\n",
    "            if valid_history is not None:\n",
    "                ax[1].plot(valid_history, label='general valid history')\n",
    "            plt.legend()\n",
    "            \n",
    "            plt.show()\n",
    "\n",
    "        \n",
    "    return epoch_loss / len(iterator)"
   ]
  },
  {
   "cell_type": "code",
   "execution_count": 66,
   "metadata": {
    "collapsed": true,
    "executionInfo": {
     "elapsed": 1228,
     "status": "ok",
     "timestamp": 1617194741081,
     "user": {
      "displayName": "Joqsán Azócar",
      "photoUrl": "",
      "userId": "13484612929132006883"
     },
     "user_tz": -180
    },
    "id": "FfVZbGgYNBTS"
   },
   "outputs": [],
   "source": [
    "def evaluate(model, iterator, criterion):\n",
    "    \n",
    "    model.eval()\n",
    "    \n",
    "    epoch_loss = 0\n",
    "    \n",
    "    history = []\n",
    "    \n",
    "    with torch.no_grad():\n",
    "    \n",
    "        for i, batch in enumerate(iterator):\n",
    "\n",
    "            src = batch.src\n",
    "            trg = batch.trg\n",
    "\n",
    "            output = model(src, trg, 0) #turn off teacher forcing\n",
    "\n",
    "            #trg = [trg sent len, batch size]\n",
    "            #output = [trg sent len, batch size, output dim]\n",
    "\n",
    "            output = output[1:].view(-1, output.shape[-1])\n",
    "            trg = trg[1:].view(-1)\n",
    "\n",
    "            #trg = [(trg sent len - 1) * batch size]\n",
    "            #output = [(trg sent len - 1) * batch size, output dim]\n",
    "\n",
    "            loss = criterion(output, trg)\n",
    "            \n",
    "            epoch_loss += loss.item()\n",
    "        \n",
    "    return epoch_loss / len(iterator)"
   ]
  },
  {
   "cell_type": "code",
   "execution_count": 67,
   "metadata": {
    "collapsed": true,
    "executionInfo": {
     "elapsed": 1444,
     "status": "ok",
     "timestamp": 1617194742430,
     "user": {
      "displayName": "Joqsán Azócar",
      "photoUrl": "",
      "userId": "13484612929132006883"
     },
     "user_tz": -180
    },
    "id": "HcKXQ8EnNBTS"
   },
   "outputs": [],
   "source": [
    "def epoch_time(start_time, end_time):\n",
    "    elapsed_time = end_time - start_time\n",
    "    elapsed_mins = int(elapsed_time / 60)\n",
    "    elapsed_secs = int(elapsed_time - (elapsed_mins * 60))\n",
    "    return elapsed_mins, elapsed_secs"
   ]
  },
  {
   "cell_type": "code",
   "execution_count": 68,
   "metadata": {
    "collapsed": true,
    "executionInfo": {
     "elapsed": 614,
     "status": "ok",
     "timestamp": 1617194742967,
     "user": {
      "displayName": "Joqsán Azócar",
      "photoUrl": "",
      "userId": "13484612929132006883"
     },
     "user_tz": -180
    },
    "id": "-jaumlIjNBTS"
   },
   "outputs": [],
   "source": [
    "train_history = []\n",
    "valid_history = []\n",
    "\n",
    "N_EPOCHS = 10\n",
    "CLIP = 1\n",
    "\n",
    "best_valid_loss = float('inf')"
   ]
  },
  {
   "cell_type": "code",
   "execution_count": 69,
   "metadata": {
    "colab": {
     "base_uri": "https://localhost:8080/",
     "height": 564
    },
    "executionInfo": {
     "elapsed": 803649,
     "status": "ok",
     "timestamp": 1617195547130,
     "user": {
      "displayName": "Joqsán Azócar",
      "photoUrl": "",
      "userId": "13484612929132006883"
     },
     "user_tz": -180
    },
    "id": "dPx76bbBNBTT",
    "outputId": "314b36ee-8607-4a46-cf5d-0ced2bd06483"
   },
   "outputs": [
    {
     "data": {
      "image/png": "[encoded data removed]",
      "text/plain": [
       "<Figure size 864x576 with 2 Axes>"
      ]
     },
     "metadata": {
      "needs_background": "light",
      "tags": []
     },
     "output_type": "display_data"
    },
    {
     "name": "stdout",
     "output_type": "stream",
     "text": [
      "Epoch: 10 | Time: 1m 20s\n",
      "\tTrain Loss: 2.135 | Train PPL:   8.455\n",
      "\t Val. Loss: 4.429 |  Val. PPL:  83.849\n"
     ]
    }
   ],
   "source": [
    "for epoch in range(N_EPOCHS):\n",
    "    \n",
    "    start_time = time.time()\n",
    "    \n",
    "    train_loss = train(model, train_iterator, optimizer, criterion, CLIP, train_history, valid_history)\n",
    "    valid_loss = evaluate(model, valid_iterator, criterion)\n",
    "    \n",
    "    end_time = time.time()\n",
    "    \n",
    "    epoch_mins, epoch_secs = epoch_time(start_time, end_time)\n",
    "    \n",
    "    if valid_loss < best_valid_loss:\n",
    "        best_valid_loss = valid_loss\n",
    "        torch.save(model.state_dict(), 'tut1-model.pt')\n",
    "    \n",
    "    train_history.append(train_loss)\n",
    "    valid_history.append(valid_loss)\n",
    "    print(f'Epoch: {epoch+1:02} | Time: {epoch_mins}m {epoch_secs}s')\n",
    "    print(f'\\tTrain Loss: {train_loss:.3f} | Train PPL: {math.exp(train_loss):7.3f}')\n",
    "    print(f'\\t Val. Loss: {valid_loss:.3f} |  Val. PPL: {math.exp(valid_loss):7.3f}')"
   ]
  },
  {
   "cell_type": "markdown",
   "metadata": {
    "id": "FrEKJIQxNBTT"
   },
   "source": [
    "__Let's take a look at our network quality__:"
   ]
  },
  {
   "cell_type": "code",
   "execution_count": 70,
   "metadata": {
    "collapsed": true,
    "executionInfo": {
     "elapsed": 930,
     "status": "ok",
     "timestamp": 1617195704699,
     "user": {
      "displayName": "Joqsán Azócar",
      "photoUrl": "",
      "userId": "13484612929132006883"
     },
     "user_tz": -180
    },
    "id": "swWfWL7eNBTU"
   },
   "outputs": [],
   "source": [
    "# del utils"
   ]
  },
  {
   "cell_type": "code",
   "execution_count": 71,
   "metadata": {
    "collapsed": true,
    "executionInfo": {
     "elapsed": 907,
     "status": "ok",
     "timestamp": 1617195713344,
     "user": {
      "displayName": "Joqsán Azócar",
      "photoUrl": "",
      "userId": "13484612929132006883"
     },
     "user_tz": -180
    },
    "id": "GNgxkuFcNBTj"
   },
   "outputs": [],
   "source": [
    "from models import utils\n",
    "import imp\n",
    "imp.reload(utils)\n",
    "generate_translation = utils.generate_translation\n",
    "remove_tech_tokens = utils.remove_tech_tokens\n",
    "get_text = utils.get_text\n",
    "flatten = utils.flatten"
   ]
  },
  {
   "cell_type": "code",
   "execution_count": 72,
   "metadata": {
    "collapsed": true,
    "executionInfo": {
     "elapsed": 1098,
     "status": "ok",
     "timestamp": 1617195715750,
     "user": {
      "displayName": "Joqsán Azócar",
      "photoUrl": "",
      "userId": "13484612929132006883"
     },
     "user_tz": -180
    },
    "id": "n3MZi42hNBTj"
   },
   "outputs": [],
   "source": [
    "batch = next(iter(test_iterator))"
   ]
  },
  {
   "cell_type": "code",
   "execution_count": 73,
   "metadata": {
    "colab": {
     "base_uri": "https://localhost:8080/"
    },
    "executionInfo": {
     "elapsed": 1382,
     "status": "ok",
     "timestamp": 1617195717778,
     "user": {
      "displayName": "Joqsán Azócar",
      "photoUrl": "",
      "userId": "13484612929132006883"
     },
     "user_tz": -180
    },
    "id": "EzCsd0BfNBTk",
    "outputId": "8addb0be-1a67-4c8a-dd1e-d262d6c151f0"
   },
   "outputs": [
    {
     "name": "stdout",
     "output_type": "stream",
     "text": [
      "Original: this hotel does not have a restaurant .\n",
      "Generated: the hotel does not open - site .\n",
      "\n",
      "Original: free wifi access is available here . santa lucia hill is a 10 - minute car ride away .\n",
      "Generated: free wifi access is available .\n",
      "\n"
     ]
    }
   ],
   "source": [
    "for idx in [1,2]:\n",
    "    src = batch.src[:, idx:idx+1]\n",
    "    trg = batch.trg[:, idx:idx+1]\n",
    "    generate_translation(src, trg, model, TRG.vocab)"
   ]
  },
  {
   "cell_type": "code",
   "execution_count": 74,
   "metadata": {
    "collapsed": true,
    "executionInfo": {
     "elapsed": 1148,
     "status": "ok",
     "timestamp": 1617195724598,
     "user": {
      "displayName": "Joqsán Azócar",
      "photoUrl": "",
      "userId": "13484612929132006883"
     },
     "user_tz": -180
    },
    "id": "0VdiOawdNBTk"
   },
   "outputs": [],
   "source": [
    "from nltk.translate.bleu_score import corpus_bleu\n",
    "\n",
    "#     \"\"\" Estimates corpora-level BLEU score of model's translations given inp and reference out \"\"\"\n",
    "#     translations, _ = model.translate_lines(inp_lines, **flags)\n",
    "#     # Note: if you experience out-of-memory error, split input lines into batches and translate separately\n",
    "#     return corpus_bleu([[ref] for ref in out_lines], translations) * 100"
   ]
  },
  {
   "cell_type": "code",
   "execution_count": 75,
   "metadata": {
    "collapsed": true,
    "executionInfo": {
     "elapsed": 1190,
     "status": "ok",
     "timestamp": 1617195726428,
     "user": {
      "displayName": "Joqsán Azócar",
      "photoUrl": "",
      "userId": "13484612929132006883"
     },
     "user_tz": -180
    },
    "id": "qT1zCKQLNBTk"
   },
   "outputs": [],
   "source": [
    "import tqdm"
   ]
  },
  {
   "cell_type": "code",
   "execution_count": 76,
   "metadata": {
    "colab": {
     "base_uri": "https://localhost:8080/"
    },
    "executionInfo": {
     "elapsed": 4546,
     "status": "ok",
     "timestamp": 1617195734000,
     "user": {
      "displayName": "Joqsán Azócar",
      "photoUrl": "",
      "userId": "13484612929132006883"
     },
     "user_tz": -180
    },
    "id": "H6PZaCo1NBTk",
    "outputId": "cbe36e00-6d03-4594-d89e-00734ed1dad5"
   },
   "outputs": [
    {
     "name": "stderr",
     "output_type": "stream",
     "text": [
      "59it [00:03, 16.78it/s]\n"
     ]
    }
   ],
   "source": [
    "original_text = []\n",
    "generated_text = []\n",
    "model.eval()\n",
    "with torch.no_grad():\n",
    "\n",
    "    for i, batch in tqdm.tqdm(enumerate(test_iterator)):\n",
    "\n",
    "        src = batch.src\n",
    "        trg = batch.trg\n",
    "\n",
    "        output = model(src, trg, 0) #turn off teacher forcing\n",
    "\n",
    "        #trg = [trg sent len, batch size]\n",
    "        #output = [trg sent len, batch size, output dim]\n",
    "\n",
    "        output = output.argmax(dim=-1)\n",
    "        \n",
    "        original_text.extend([get_text(x, TRG.vocab) for x in trg.cpu().numpy().T])\n",
    "        generated_text.extend([get_text(x, TRG.vocab) for x in output[1:].detach().cpu().numpy().T])\n",
    "\n",
    "# original_text = flatten(original_text)\n",
    "# generated_text = flatten(generated_text)"
   ]
  },
  {
   "cell_type": "code",
   "execution_count": 77,
   "metadata": {
    "colab": {
     "base_uri": "https://localhost:8080/"
    },
    "executionInfo": {
     "elapsed": 1379,
     "status": "ok",
     "timestamp": 1617195737960,
     "user": {
      "displayName": "Joqsán Azócar",
      "photoUrl": "",
      "userId": "13484612929132006883"
     },
     "user_tz": -180
    },
    "id": "RfvkdKgmNBTl",
    "outputId": "deb53cd9-4c3e-415e-9fdc-bbc8f62e9572"
   },
   "outputs": [
    {
     "data": {
      "text/plain": [
       "27.33281166978366"
      ]
     },
     "execution_count": 77,
     "metadata": {
      "tags": []
     },
     "output_type": "execute_result"
    }
   ],
   "source": [
    "corpus_bleu([[text] for text in original_text], generated_text) * 100"
   ]
  },
  {
   "cell_type": "markdown",
   "metadata": {},
   "source": [
    "**<font color=blue>Conclusions:</font>**\n",
    "\n",
    "- The score is good enough (: \n",
    "- Here we can see why having only a meaningful tokenization is not enough for improving the translation quality: It doesn't prevent the bottleneck caused by only passing just last encoder hidden state to the decoder, as we do in the vanilla transformer. It's advisable to introduce (not limited to this, though) some technique that captures the \"influence\" of each word in the source on the next word we're trying to predict (word alignment). Attention does just that.\n",
    "- Since each source sentence has a length of $\\approx 50$ words/tokens the total number of hidden states produces by the encoder is also $\\approx 50$. Their number is small enough as to calculate attention use them all, and it's also large enough to see that how attention allows to capture information from not-that-small sentences. \n",
    "- Further experiments relatd to attenton may include:\n",
    "  - Trying different techniques for calculating $\\mathrm{score}(h_t, \\overline{h}_s)$.\n",
    "  - Trying [Bahdanau's Attention](https://arxiv.org/pdf/1409.0473.pdf)."
   ]
  },
  {
   "cell_type": "markdown",
   "metadata": {
    "id": "s45UH56LNBTl"
   },
   "source": [
    "Baseline solution BLEU score is quite low. Try to achieve at least __24__ BLEU on the test set. \n",
    "The checkpoints are:\n",
    "\n",
    "* __22__ - minimal score to submit the homework, 30% of points\n",
    "\n",
    "* __27__ - good score, 70% of points\n",
    "\n",
    "* __29__ - excellent score, 100% of points"
   ]
  }
 ],
 "metadata": {
  "accelerator": "GPU",
  "anaconda-cloud": {},
  "colab": {
   "collapsed_sections": [],
   "machine_shape": "hm",
   "name": "Lab1_NLP_part2_NMT__Attention_1_layer.ipynb",
   "provenance": [],
   "toc_visible": true
  },
  "kernelspec": {
   "display_name": "Python 3",
   "language": "python",
   "name": "python3"
  },
  "language_info": {
   "codemirror_mode": {
    "name": "ipython",
    "version": 3
   },
   "file_extension": ".py",
   "mimetype": "text/x-python",
   "name": "python",
   "nbconvert_exporter": "python",
   "pygments_lexer": "ipython3",
   "version": "3.6.4"
  }
 },
 "nbformat": 4,
 "nbformat_minor": 1
}
